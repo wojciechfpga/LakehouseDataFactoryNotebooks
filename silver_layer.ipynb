{
 "cells": [
  {
   "cell_type": "markdown",
   "id": "66d98414-5179-4b18-adc8-a064baa75b16",
   "metadata": {
    "microsoft": {
     "language": "python",
     "language_group": "synapse_pyspark"
    },
    "nteract": {
     "transient": {
      "deleting": false
     }
    }
   },
   "source": [
    "<u>**1. Silver Layer - medallion architecutre**</u>\n",
    "\n",
    "This notebook is used to cleanse data from the bronze layer. In the bronze layer, data is loaded and not cleansed—it may contain duplicates or data that is invalid based on domain knowledge. In the silver layer, data unsuitable for analysis should be removed."
   ]
  },
  {
   "cell_type": "markdown",
   "id": "22228ad6-c0a2-41b7-8efa-64c96814105a",
   "metadata": {
    "microsoft": {
     "language": "python",
     "language_group": "synapse_pyspark"
    },
    "nteract": {
     "transient": {
      "deleting": false
     }
    }
   },
   "source": [
    "First step is to load nonstandard libraries/functions"
   ]
  },
  {
   "cell_type": "code",
   "execution_count": 15,
   "id": "a0a7e808-046a-47d6-a98e-0baf74489e83",
   "metadata": {
    "microsoft": {
     "language": "python",
     "language_group": "synapse_pyspark"
    }
   },
   "outputs": [
    {
     "data": {
      "application/vnd.livy.statement-meta+json": {
       "execution_finish_time": "2025-10-20T18:54:57.2018054Z",
       "execution_start_time": "2025-10-20T18:54:56.3241005Z",
       "livy_statement_state": "available",
       "normalized_state": "finished",
       "parent_msg_id": "a92882da-7e8e-45b2-bb3c-4769e76e5197",
       "queued_time": "2025-10-20T18:54:56.3229065Z",
       "session_id": "bf41620f-6fe1-4534-8ca4-0f4490111d44",
       "session_start_time": null,
       "spark_pool": null,
       "state": "finished",
       "statement_id": 17,
       "statement_ids": [
        17
       ]
      },
      "text/plain": [
       "StatementMeta(, bf41620f-6fe1-4534-8ca4-0f4490111d44, 17, Finished, Available, Finished)"
      ]
     },
     "metadata": {},
     "output_type": "display_data"
    }
   ],
   "source": [
    "from pyspark.sql.functions import lit, col, trim"
   ]
  },
  {
   "cell_type": "markdown",
   "id": "8b2960b0-9b81-4739-84a8-ed07ae740d37",
   "metadata": {
    "microsoft": {
     "language": "python",
     "language_group": "synapse_pyspark"
    },
    "nteract": {
     "transient": {
      "deleting": false
     }
    }
   },
   "source": [
    "<u>**2. Data cleaning**</u>\n",
    "\n",
    "Data cleansing involves removing duplicates, rows with missing values ​​in critical columns or with substantively incorrect values.\n"
   ]
  },
  {
   "cell_type": "markdown",
   "id": "9bdfdfab-e992-4f5f-8687-22c01403a62a",
   "metadata": {
    "microsoft": {
     "language": "python",
     "language_group": "synapse_pyspark"
    },
    "nteract": {
     "transient": {
      "deleting": false
     }
    }
   },
   "source": [
    "This notebook is connected to Pipeline Data Factory. A canvas variable named time_pipeline is passed to the notebook."
   ]
  },
  {
   "cell_type": "code",
   "execution_count": null,
   "id": "27901fef-8473-41b7-bcc6-2277428ee383",
   "metadata": {
    "editable": true,
    "jupyter": {
     "outputs_hidden": false
    },
    "microsoft": {
     "language": "python",
     "language_group": "synapse_pyspark"
    },
    "run_control": {
     "frozen": false
    }
   },
   "outputs": [
    {
     "data": {
      "application/vnd.livy.statement-meta+json": {
       "execution_finish_time": "2025-10-20T18:54:57.5658799Z",
       "execution_start_time": "2025-10-20T18:54:57.2039472Z",
       "livy_statement_state": "available",
       "normalized_state": "finished",
       "parent_msg_id": "a48b60e9-7063-4afe-98cf-8359a31e82fa",
       "queued_time": "2025-10-20T18:54:56.4104951Z",
       "session_id": "bf41620f-6fe1-4534-8ca4-0f4490111d44",
       "session_start_time": null,
       "spark_pool": null,
       "state": "finished",
       "statement_id": 18,
       "statement_ids": [
        18
       ]
      },
      "text/plain": [
       "StatementMeta(, bf41620f-6fe1-4534-8ca4-0f4490111d44, 18, Finished, Available, Finished)"
      ]
     },
     "metadata": {},
     "output_type": "display_data"
    }
   ],
   "source": [
    "if not time_pipeline:\n",
    "    raise ValueError(\"Error: time_pipeline variable is empty or not provided by the pipeline.\")    \n",
    "time_pipeline = str(time_pipeline)"
   ]
  },
  {
   "cell_type": "markdown",
   "id": "3b568a12-a85d-45e2-a1c0-06592e047f2f",
   "metadata": {
    "microsoft": {
     "language": "python",
     "language_group": "synapse_pyspark"
    },
    "nteract": {
     "transient": {
      "deleting": false
     }
    }
   },
   "source": [
    "First, you need to retrieve data from the tables and add a processing time column with the value obtained from the variable passed from canvas."
   ]
  },
  {
   "cell_type": "code",
   "execution_count": 17,
   "id": "446ae735-982c-438e-a0c6-48413eb56ace",
   "metadata": {
    "microsoft": {
     "language": "python",
     "language_group": "synapse_pyspark"
    }
   },
   "outputs": [
    {
     "data": {
      "application/vnd.livy.statement-meta+json": {
       "execution_finish_time": "2025-10-20T18:55:40.4396484Z",
       "execution_start_time": "2025-10-20T18:54:57.5679033Z",
       "livy_statement_state": "available",
       "normalized_state": "finished",
       "parent_msg_id": "36b52b77-ae84-4747-9f4d-78a698ee48a4",
       "queued_time": "2025-10-20T18:54:56.6041396Z",
       "session_id": "bf41620f-6fe1-4534-8ca4-0f4490111d44",
       "session_start_time": null,
       "spark_pool": null,
       "state": "finished",
       "statement_id": 19,
       "statement_ids": [
        19
       ]
      },
      "text/plain": [
       "StatementMeta(, bf41620f-6fe1-4534-8ca4-0f4490111d44, 19, Finished, Available, Finished)"
      ]
     },
     "metadata": {},
     "output_type": "display_data"
    }
   ],
   "source": [
    "try:\n",
    "    all_tables = [t.name for t in spark.catalog.listTables(\"bronze\")]\n",
    "    if not all_tables:\n",
    "        raise ValueError(\"Error: No tables found in the bronze schema.\")\n",
    "except Exception as e:\n",
    "    raise Exception(f\"Error accessing bronze schema: {str(e)}\")"
   ]
  },
  {
   "cell_type": "markdown",
   "id": "1a3a3d8e-0273-4116-85ea-b070c36d094e",
   "metadata": {
    "microsoft": {
     "language": "python",
     "language_group": "synapse_pyspark"
    },
    "nteract": {
     "transient": {
      "deleting": false
     }
    }
   },
   "source": [
    "Then a column with the processing time is added to each table."
   ]
  },
  {
   "cell_type": "code",
   "execution_count": 18,
   "id": "0baf633a-715c-49df-b2f9-a37aa2f05449",
   "metadata": {
    "microsoft": {
     "language": "python",
     "language_group": "synapse_pyspark"
    }
   },
   "outputs": [
    {
     "data": {
      "application/vnd.livy.statement-meta+json": {
       "execution_finish_time": "2025-10-20T18:55:45.7593084Z",
       "execution_start_time": "2025-10-20T18:55:40.4418313Z",
       "livy_statement_state": "available",
       "normalized_state": "finished",
       "parent_msg_id": "df4280ea-4b12-4b9a-a75d-4ec3f792f93d",
       "queued_time": "2025-10-20T18:54:56.7378991Z",
       "session_id": "bf41620f-6fe1-4534-8ca4-0f4490111d44",
       "session_start_time": null,
       "spark_pool": null,
       "state": "finished",
       "statement_id": 20,
       "statement_ids": [
        20
       ]
      },
      "text/plain": [
       "StatementMeta(, bf41620f-6fe1-4534-8ca4-0f4490111d44, 20, Finished, Available, Finished)"
      ]
     },
     "metadata": {},
     "output_type": "display_data"
    }
   ],
   "source": [
    "for table_name in all_tables:\n",
    "    full_table_name = f\"bronze.{table_name}\"\n",
    "    df_bronze = spark.read.table(full_table_name)\n",
    "    \n",
    "    df_silver = df_bronze.withColumn(\"processed_at\", lit(time_pipeline))\n",
    "    "
   ]
  },
  {
   "cell_type": "markdown",
   "id": "70ff0480-f845-4edd-a179-45f6d67b5e58",
   "metadata": {
    "microsoft": {
     "language": "python",
     "language_group": "synapse_pyspark"
    },
    "nteract": {
     "transient": {
      "deleting": false
     }
    }
   },
   "source": [
    "In order to remove duplicates, a list of primary keys should be created - it is assumed that, unlike in the OLTP database, integrity constraints do not work here."
   ]
  },
  {
   "cell_type": "code",
   "execution_count": 19,
   "id": "c9a398dd-a130-4579-89c4-9ac1932d12cb",
   "metadata": {
    "microsoft": {
     "language": "python",
     "language_group": "synapse_pyspark"
    }
   },
   "outputs": [
    {
     "data": {
      "application/vnd.livy.statement-meta+json": {
       "execution_finish_time": "2025-10-20T18:55:46.13832Z",
       "execution_start_time": "2025-10-20T18:55:45.7612365Z",
       "livy_statement_state": "available",
       "normalized_state": "finished",
       "parent_msg_id": "35d04e6d-5fb2-4624-815f-a560f935fd0f",
       "queued_time": "2025-10-20T18:54:56.8546516Z",
       "session_id": "bf41620f-6fe1-4534-8ca4-0f4490111d44",
       "session_start_time": null,
       "spark_pool": null,
       "state": "finished",
       "statement_id": 21,
       "statement_ids": [
        21
       ]
      },
      "text/plain": [
       "StatementMeta(, bf41620f-6fe1-4534-8ca4-0f4490111d44, 21, Finished, Available, Finished)"
      ]
     },
     "metadata": {},
     "output_type": "display_data"
    }
   ],
   "source": [
    "ids_list = [\"DiamondID\",\"CustomerID\", \"TransactionID\", \"CountryID\"]"
   ]
  },
  {
   "cell_type": "markdown",
   "id": "2acd0db5-2270-4421-aa2b-09897175c4ef",
   "metadata": {
    "microsoft": {
     "language": "python",
     "language_group": "synapse_pyspark"
    },
    "nteract": {
     "transient": {
      "deleting": false
     }
    }
   },
   "source": [
    "Then, functions for processing individual tables are formulated."
   ]
  },
  {
   "cell_type": "code",
   "execution_count": 20,
   "id": "c7e61cfc-2db8-48f3-ad55-3ca8002447cf",
   "metadata": {
    "microsoft": {
     "language": "python",
     "language_group": "synapse_pyspark"
    }
   },
   "outputs": [
    {
     "data": {
      "application/vnd.livy.statement-meta+json": {
       "execution_finish_time": "2025-10-20T18:55:46.7457698Z",
       "execution_start_time": "2025-10-20T18:55:46.1402548Z",
       "livy_statement_state": "available",
       "normalized_state": "finished",
       "parent_msg_id": "2d03b044-86a5-4120-bda2-47f5b9838de5",
       "queued_time": "2025-10-20T18:54:56.9676297Z",
       "session_id": "bf41620f-6fe1-4534-8ca4-0f4490111d44",
       "session_start_time": null,
       "spark_pool": null,
       "state": "finished",
       "statement_id": 22,
       "statement_ids": [
        22
       ]
      },
      "text/plain": [
       "StatementMeta(, bf41620f-6fe1-4534-8ca4-0f4490111d44, 22, Finished, Available, Finished)"
      ]
     },
     "metadata": {},
     "output_type": "display_data"
    }
   ],
   "source": [
    "def processing_diamonds(df):\n",
    "    result = df.filter(\n",
    "                (col(\"price\").isNotNull()) & (col(\"price\") >= 0) &\n",
    "                (col(\"carat\").isNotNull()) & (col(\"carat\") > 0) &\n",
    "                (col(\"x\").isNotNull()) & (col(\"x\") > 0) &\n",
    "                (col(\"y\").isNotNull()) & (col(\"y\") > 0) &\n",
    "                (col(\"z\").isNotNull()) & (col(\"z\") > 0) &\n",
    "                (col(\"cut\").isNotNull()) &\n",
    "                (col(\"color\").isNotNull()) &\n",
    "                (col(\"clarity\").isNotNull())\n",
    "                )\n",
    "    return result"
   ]
  },
  {
   "cell_type": "code",
   "execution_count": 21,
   "id": "7ffdace6-b47a-4535-9c99-7ac517c5f504",
   "metadata": {
    "microsoft": {
     "language": "python",
     "language_group": "synapse_pyspark"
    }
   },
   "outputs": [
    {
     "data": {
      "application/vnd.livy.statement-meta+json": {
       "execution_finish_time": "2025-10-20T18:55:47.2484317Z",
       "execution_start_time": "2025-10-20T18:55:46.7481433Z",
       "livy_statement_state": "available",
       "normalized_state": "finished",
       "parent_msg_id": "938594ba-ad6a-4ab1-8b3c-5cab7ec092e1",
       "queued_time": "2025-10-20T18:54:57.1079479Z",
       "session_id": "bf41620f-6fe1-4534-8ca4-0f4490111d44",
       "session_start_time": null,
       "spark_pool": null,
       "state": "finished",
       "statement_id": 23,
       "statement_ids": [
        23
       ]
      },
      "text/plain": [
       "StatementMeta(, bf41620f-6fe1-4534-8ca4-0f4490111d44, 23, Finished, Available, Finished)"
      ]
     },
     "metadata": {},
     "output_type": "display_data"
    }
   ],
   "source": [
    "def processing_countries(df):\n",
    "    result = df.filter(\n",
    "        (col(\"country\").isNotNull()) & (trim(col(\"country\")) != \"\") &\n",
    "        (col(\"region\").isNotNull()) & (trim(col(\"region\")) != \"\") &\n",
    "        (col(\"GNI_per_capita\").isNotNull()) & (col(\"GNI_per_capita\") >= 0)\n",
    "        )\n",
    "    return result"
   ]
  },
  {
   "cell_type": "code",
   "execution_count": 22,
   "id": "ef8e4ea6-aebc-4c7c-9d1b-afa3f4d3d065",
   "metadata": {
    "microsoft": {
     "language": "python",
     "language_group": "synapse_pyspark"
    }
   },
   "outputs": [
    {
     "data": {
      "application/vnd.livy.statement-meta+json": {
       "execution_finish_time": "2025-10-20T18:55:47.8543633Z",
       "execution_start_time": "2025-10-20T18:55:47.2502366Z",
       "livy_statement_state": "available",
       "normalized_state": "finished",
       "parent_msg_id": "ae59e6f4-3716-4600-9778-871286164b81",
       "queued_time": "2025-10-20T18:54:57.2303567Z",
       "session_id": "bf41620f-6fe1-4534-8ca4-0f4490111d44",
       "session_start_time": null,
       "spark_pool": null,
       "state": "finished",
       "statement_id": 24,
       "statement_ids": [
        24
       ]
      },
      "text/plain": [
       "StatementMeta(, bf41620f-6fe1-4534-8ca4-0f4490111d44, 24, Finished, Available, Finished)"
      ]
     },
     "metadata": {},
     "output_type": "display_data"
    }
   ],
   "source": [
    "def processing_customers(df):\n",
    "    result = df.filter(\n",
    "        (col(\"CustomerID\").isNotNull()) &\n",
    "        (col(\"CountryID\").isNotNull()) &\n",
    "        (col(\"CustomerID\") > 0) &\n",
    "        (col(\"CountryID\") > 0)\n",
    "        )\n",
    "    return result"
   ]
  },
  {
   "cell_type": "code",
   "execution_count": 23,
   "id": "2ab9060e-7dd3-4d9c-a5b9-e4ca4752e0a3",
   "metadata": {
    "microsoft": {
     "language": "python",
     "language_group": "synapse_pyspark"
    }
   },
   "outputs": [
    {
     "data": {
      "application/vnd.livy.statement-meta+json": {
       "execution_finish_time": "2025-10-20T18:55:48.6057377Z",
       "execution_start_time": "2025-10-20T18:55:47.8561708Z",
       "livy_statement_state": "available",
       "normalized_state": "finished",
       "parent_msg_id": "e5debd0c-3a88-4083-a49e-b23b26e7d417",
       "queued_time": "2025-10-20T18:54:57.3517253Z",
       "session_id": "bf41620f-6fe1-4534-8ca4-0f4490111d44",
       "session_start_time": null,
       "spark_pool": null,
       "state": "finished",
       "statement_id": 25,
       "statement_ids": [
        25
       ]
      },
      "text/plain": [
       "StatementMeta(, bf41620f-6fe1-4534-8ca4-0f4490111d44, 25, Finished, Available, Finished)"
      ]
     },
     "metadata": {},
     "output_type": "display_data"
    }
   ],
   "source": [
    "def processing_transactions(df):\n",
    "    result = df.filter(\n",
    "        (col(\"TransactionID\").isNotNull()) &\n",
    "        (col(\"CustomerID\").isNotNull()) &\n",
    "        (col(\"DiamondID\").isNotNull()) &\n",
    "        (col(\"Quantity\").isNotNull()) &\n",
    "        (col(\"Quantity\") > 0)\n",
    "        )\n",
    "    return result"
   ]
  },
  {
   "cell_type": "markdown",
   "id": "d5893f3c-963b-4fc1-bbc9-283724a7ac62",
   "metadata": {
    "microsoft": {
     "language": "python",
     "language_group": "synapse_pyspark"
    },
    "nteract": {
     "transient": {
      "deleting": false
     }
    }
   },
   "source": [
    "Then the transformation is performed for all columns"
   ]
  },
  {
   "cell_type": "code",
   "execution_count": 24,
   "id": "96101f67-47bb-4486-ae7a-28511c98eea6",
   "metadata": {
    "microsoft": {
     "language": "python",
     "language_group": "synapse_pyspark"
    }
   },
   "outputs": [
    {
     "data": {
      "application/vnd.livy.statement-meta+json": {
       "execution_finish_time": "2025-10-20T18:56:51.9606114Z",
       "execution_start_time": "2025-10-20T18:55:48.6083341Z",
       "livy_statement_state": "available",
       "normalized_state": "finished",
       "parent_msg_id": "8c51c71c-387e-4279-b2c8-10780634db8e",
       "queued_time": "2025-10-20T18:54:57.5919197Z",
       "session_id": "bf41620f-6fe1-4534-8ca4-0f4490111d44",
       "session_start_time": null,
       "spark_pool": null,
       "state": "finished",
       "statement_id": 26,
       "statement_ids": [
        26
       ]
      },
      "text/plain": [
       "StatementMeta(, bf41620f-6fe1-4534-8ca4-0f4490111d44, 26, Finished, Available, Finished)"
      ]
     },
     "metadata": {},
     "output_type": "display_data"
    }
   ],
   "source": [
    "for table_name in all_tables:\n",
    "    full_table_name = f\"bronze.{table_name}\"\n",
    "    df_bronze = spark.read.table(full_table_name)\n",
    "\n",
    "    df_silver = df_bronze.withColumn(\"processed_at\", lit(time_pipeline))\n",
    "\n",
    "    for id_col in ids_list:\n",
    "        if id_col in df_silver.columns:\n",
    "            df_silver = df_silver.dropDuplicates([id_col])            \n",
    "            break \n",
    "\n",
    "    if table_name == \"diamonds\":\n",
    "        df_silver = processing_diamonds(df_silver)\n",
    "\n",
    "    if table_name == \"countries\":\n",
    "        df_silver = processing_countries(df_silver)\n",
    "    \n",
    "    if table_name == \"customers\":\n",
    "        df_silver = processing_customers(df_silver)\n",
    "\n",
    "    if table_name == \"transactions\":\n",
    "        df_silver = processing_transactions(df_silver)\n",
    "\n",
    "    df_silver.write.mode(\"overwrite\").saveAsTable(f\"silver.{table_name}\")\n"
   ]
  }
 ],
 "metadata": {
  "dependencies": {
   "lakehouse": {
    "default_lakehouse": "8b0feb89-6023-47a4-a412-b7b0d70208be",
    "default_lakehouse_name": "DiamondsLakeHouse",
    "default_lakehouse_workspace_id": "2a469a85-6cde-4a9f-9408-4552130fd7bc",
    "known_lakehouses": [
     {
      "id": "8b0feb89-6023-47a4-a412-b7b0d70208be"
     }
    ]
   }
  },
  "kernel_info": {
   "name": "synapse_pyspark"
  },
  "kernelspec": {
   "display_name": "synapse_pyspark",
   "name": "synapse_pyspark"
  },
  "language_info": {
   "name": "python"
  },
  "microsoft": {
   "language": "python",
   "language_group": "synapse_pyspark",
   "ms_spell_check": {
    "ms_spell_check_language": "en"
   }
  },
  "nteract": {
   "version": "nteract-front-end@1.0.0"
  },
  "spark_compute": {
   "compute_id": "/trident/default",
   "session_options": {
    "conf": {
     "spark.synapse.nbs.session.timeout": "1200000"
    }
   }
  }
 },
 "nbformat": 4,
 "nbformat_minor": 5
}
